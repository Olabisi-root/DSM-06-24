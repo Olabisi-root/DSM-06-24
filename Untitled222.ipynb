{
 "cells": [
  {
   "cell_type": "code",
   "execution_count": 3,
   "id": "a00814bf-9e02-46d2-8027-49c573f24de3",
   "metadata": {},
   "outputs": [
    {
     "name": "stdout",
     "output_type": "stream",
     "text": [
      "olabisi Akinwunmi\n"
     ]
    }
   ],
   "source": [
    "print(\"olabisi Akinwunmi\")"
   ]
  },
  {
   "cell_type": "code",
   "execution_count": 4,
   "id": "50a38c5a-23b7-4c64-b266-77e23ad4bdb3",
   "metadata": {},
   "outputs": [
    {
     "data": {
      "text/plain": [
       "50"
      ]
     },
     "execution_count": 4,
     "metadata": {},
     "output_type": "execute_result"
    }
   ],
   "source": [
    "24+26"
   ]
  },
  {
   "cell_type": "code",
   "execution_count": 5,
   "id": "42b884f8-b163-4e8f-b698-7d2ae10f38e6",
   "metadata": {},
   "outputs": [
    {
     "data": {
      "text/plain": [
       "4.0"
      ]
     },
     "execution_count": 5,
     "metadata": {},
     "output_type": "execute_result"
    }
   ],
   "source": [
    "24/6"
   ]
  },
  {
   "cell_type": "code",
   "execution_count": null,
   "id": "112784d5-9d37-46d6-8fae-8e5834c2ba04",
   "metadata": {},
   "outputs": [],
   "source": []
  }
 ],
 "metadata": {
  "kernelspec": {
   "display_name": "Python 3 (ipykernel)",
   "language": "python",
   "name": "python3"
  },
  "language_info": {
   "codemirror_mode": {
    "name": "ipython",
    "version": 3
   },
   "file_extension": ".py",
   "mimetype": "text/x-python",
   "name": "python",
   "nbconvert_exporter": "python",
   "pygments_lexer": "ipython3",
   "version": "3.12.4"
  }
 },
 "nbformat": 4,
 "nbformat_minor": 5
}
